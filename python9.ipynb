{
 "cells": [
  {
   "cell_type": "code",
   "execution_count": 6,
   "id": "b54c5e5a-594d-445d-be77-7f4f4f286762",
   "metadata": {},
   "outputs": [
    {
     "name": "stdin",
     "output_type": "stream",
     "text": [
      "enter the queue elements 1 2 3 4\n",
      "enter the elements to be inserted 3\n"
     ]
    },
    {
     "name": "stdout",
     "output_type": "stream",
     "text": [
      "queue after adding: ['1', '2', '3', '4', 3]\n",
      "removed elements is: 1\n",
      "queue after removeing: ['2', '3', '4', 3]\n"
     ]
    }
   ],
   "source": [
    "#queue\n",
    "\n",
    "queue=input(\"enter the queue elements\").split()\n",
    "\n",
    "def add():\n",
    "    val=int(input(\"enter the elements to be inserted\"))\n",
    "    queue.append(val)\n",
    "    return queue\n",
    "\n",
    "def remove():\n",
    "    value=queue.pop(0)\n",
    "    print(\"removed elements is:\",value)\n",
    "    return queue\n",
    "\n",
    "print(\"queue after adding:\",add())\n",
    "print(\"queue after removeing:\",remove())\n",
    "\n",
    "\n"
   ]
  },
  {
   "cell_type": "code",
   "execution_count": 9,
   "id": "8358ad49-50aa-40a7-accf-d4b4b75ff07d",
   "metadata": {},
   "outputs": [
    {
     "name": "stdin",
     "output_type": "stream",
     "text": [
      " this is a car\n"
     ]
    },
    {
     "name": "stdout",
     "output_type": "stream",
     "text": [
      "rac a si siht"
     ]
    }
   ],
   "source": [
    "#reversing stack by using string\n",
    "\n",
    "a=input()\n",
    "s=[]\n",
    "for e in a:\n",
    "    s.append(e)\n",
    "\n",
    "while len(s)>0:\n",
    "    print(s.pop(),end=\"\")\n"
   ]
  },
  {
   "cell_type": "code",
   "execution_count": 12,
   "id": "5fcbcd50-aaa6-4618-86ef-c15221b70e5c",
   "metadata": {},
   "outputs": [
    {
     "name": "stdin",
     "output_type": "stream",
     "text": [
      " this is a car\n"
     ]
    },
    {
     "name": "stdout",
     "output_type": "stream",
     "text": [
      "car a is this "
     ]
    }
   ],
   "source": [
    "a=input()\n",
    "s=[]\n",
    "for e in a.split():\n",
    "    s.append(e)\n",
    "\n",
    "while len(s)>0:\n",
    "    print(s.pop(),end=\" \")\n"
   ]
  },
  {
   "cell_type": "code",
   "execution_count": 2,
   "id": "64e00dd0-3c99-4c23-ac48-376fea0387f2",
   "metadata": {},
   "outputs": [
    {
     "name": "stdin",
     "output_type": "stream",
     "text": [
      " (a+b)*c\n"
     ]
    },
    {
     "name": "stdout",
     "output_type": "stream",
     "text": [
      " ab+c*\n"
     ]
    }
   ],
   "source": [
    "#convertion of infix to post fix\n",
    "\n",
    "def prec(e):\n",
    "    if e == \"^\":\n",
    "        return 3\n",
    "    elif e == \"+\" or e == \"/\" :\n",
    "        return 2\n",
    "    elif e == \"+\" or e == \"-\" :\n",
    "        return 1\n",
    "    else:\n",
    "        return -1\n",
    "\n",
    "expr=input()\n",
    "s = []\n",
    "result=\" \"\n",
    "for e in expr:\n",
    "    if e.isalnum():\n",
    "        result +=e\n",
    "    elif e == '(':\n",
    "        s.append(e)\n",
    "    elif e == ')':\n",
    "        while s [-1] !='(':\n",
    "            result += s.pop()\n",
    "        s.pop()\n",
    "    else:\n",
    "        while s and (prec(e)<prec(s[-1]) or \n",
    "                    (prec(e)==prec(s[-]) and asoc(e)=='l')):\n",
    "            result +=s.pop()\n",
    "        s.append(e)\n",
    "\n",
    "while s:\n",
    "    result += s.pop()\n",
    "\n",
    "print(result)\n",
    "        \n",
    "\n"
   ]
  },
  {
   "cell_type": "code",
   "execution_count": null,
   "id": "94050443-2ce9-44f1-89f3-e0afe2d6406e",
   "metadata": {},
   "outputs": [],
   "source": [
    "#in a aecade game, there is a king who got spelled by a which that whenever he eat he have to take care of what is sequence of his food intake.\n",
    "if he eats similar food one after other it will cancel out the its effect and total energy was decreased.\n",
    "your task is to determine the total energy of the king after his meal\n",
    "\n",
    "example:\n",
    "[\"apple\",\"dal\",\"chapati\",\"rice\",\"rice\",\"apple\",\"apple\",\"dal\",\"rice\",\"dal\",\"chapati\",\"chapati\"]\n",
    "\n",
    "consider that energy relaesed by each item will be same which is 1 unit\n",
    "\n",
    "so that total energy intake is 6 unit as per above example.\n",
    "[\"apple\",\"dal\",\"chapati\",\"dal\",\"rice\",\"dal\"]\n",
    "\n",
    "write a code to find the energy stored by the king after have all the food.\n",
    "\n"
   ]
  },
  {
   "cell_type": "code",
   "execution_count": 6,
   "id": "6faa2c96-5802-4886-96b1-3d5be701276e",
   "metadata": {},
   "outputs": [
    {
     "name": "stdin",
     "output_type": "stream",
     "text": [
      " a d c r r a a d r d c c\n"
     ]
    },
    {
     "name": "stdout",
     "output_type": "stream",
     "text": [
      "['a', 'd', 'c', 'r', 'r', 'a', 'a', 'd', 'r', 'd', 'c', 'c']\n",
      "6 ['a', 'd', 'c', 'd', 'r', 'd']\n"
     ]
    }
   ],
   "source": [
    "a=[item for item in input().split()]\n",
    "print(a)\n",
    "s=[]\n",
    "for item in a:\n",
    "    if not s:\n",
    "        s.append(item)\n",
    "    elif s[-1] == item:\n",
    "        s.pop()\n",
    "    else:\n",
    "        s.append(item)\n",
    "\n",
    "print(len(s),s)"
   ]
  },
  {
   "cell_type": "code",
   "execution_count": 10,
   "id": "1381bab4-9226-4f8c-b9bb-f0c9abe246ed",
   "metadata": {},
   "outputs": [
    {
     "name": "stdin",
     "output_type": "stream",
     "text": [
      " (){[}\n"
     ]
    },
    {
     "name": "stdout",
     "output_type": "stream",
     "text": [
      "invalid\n"
     ]
    }
   ],
   "source": [
    "s = input()\n",
    "\n",
    "\n",
    "# Create a stack to keep track of unmatched brackets\n",
    "stack = []\n",
    "\n",
    "\n",
    "for ch in s:\n",
    "    if ch=='(' or ch=='{' or ch=='[':\n",
    "            stack.append(ch)\n",
    "    elif ch==')'and stack[-1]=='(' or ch=='}' and stack[-1]=='{' or ch==']'and stack[-1]=='[':\n",
    "        stack.pop()\n",
    "    else:\n",
    "        continue\n",
    "\n",
    "\n",
    "\n",
    "if not stack:\n",
    "    print(\"valid\")\n",
    "else:\n",
    "    print(\"invalid\")"
   ]
  },
  {
   "cell_type": "code",
   "execution_count": null,
   "id": "c5c7a24d-fc4d-4d71-b059-1c4c3adcc7a4",
   "metadata": {},
   "outputs": [],
   "source": []
  }
 ],
 "metadata": {
  "kernelspec": {
   "display_name": "Python 3 (ipykernel)",
   "language": "python",
   "name": "python3"
  },
  "language_info": {
   "codemirror_mode": {
    "name": "ipython",
    "version": 3
   },
   "file_extension": ".py",
   "mimetype": "text/x-python",
   "name": "python",
   "nbconvert_exporter": "python",
   "pygments_lexer": "ipython3",
   "version": "3.12.3"
  }
 },
 "nbformat": 4,
 "nbformat_minor": 5
}
