{
 "cells": [
  {
   "cell_type": "code",
   "execution_count": 8,
   "id": "c55fc291-92bc-49fc-90ab-c615f5ff7257",
   "metadata": {},
   "outputs": [
    {
     "name": "stdout",
     "output_type": "stream",
     "text": [
      "[8, 13, 21, 23, 24, 32, 35, 43, 45, 46, 47, 48, 49, 54, 57, 59, 65, 66, 67, 68, 73, 78, 86, 87, 89, 92, 95, 96, 97]\n"
     ]
    },
    {
     "name": "stdin",
     "output_type": "stream",
     "text": [
      " 46\n"
     ]
    },
    {
     "name": "stdout",
     "output_type": "stream",
     "text": [
      "index of element is 9\n",
      "low 0 high 29 mid 14\n",
      "low 0 high 13 mid 6\n",
      "low 7 high 13 mid 10\n",
      "low 7 high 9 mid 8\n",
      "low 9 high 9 mid 9\n",
      "element found at  9\n"
     ]
    }
   ],
   "source": [
    "#binary search\n",
    "l=[23,45,67,87,65,43,54,35,21,8,89,78,97,68,95,57,48,86,73,92,13,66,46,49,24,47,96,32,59]\n",
    "l.sort()\n",
    "print(l)\n",
    "low = 0\n",
    "high = len(l)\n",
    "src=int(input())\n",
    "try:\n",
    "    print(\"index of element is\",l.index(src))\n",
    "except:\n",
    "    print(\"item not in list\")\n",
    "flag=0\n",
    "while low<=high:\n",
    "     mid=int((low+high)/2)\n",
    "     print(\"low\",low,\"high\",high,\"mid\",mid)\n",
    "     if src<l[mid]:\n",
    "         high=mid-1\n",
    "     elif src>l[mid]:\n",
    "         low=mid+1\n",
    "     else:\n",
    "         flag=1\n",
    "         break;\n",
    "\n",
    "if flag==1:\n",
    "    print(\"element found at \",mid)\n",
    "else:\n",
    "    print(\"element no found\")\n",
    "    \n"
   ]
  },
  {
   "cell_type": "code",
   "execution_count": 20,
   "id": "1e70ebd6-f176-42f8-af79-9aa1ccaab872",
   "metadata": {},
   "outputs": [
    {
     "name": "stdin",
     "output_type": "stream",
     "text": [
      " this is (a car)\n"
     ]
    },
    {
     "name": "stdout",
     "output_type": "stream",
     "text": [
      "valid string\n"
     ]
    }
   ],
   "source": [
    "#quick sort\n",
    "\n",
    "s=input()\n",
    "x=y=z=0\n",
    "for c in s:\n",
    "    match (c):\n",
    "         case '(':x+=1\n",
    "         case ')':x-=1\n",
    "         case '{':y+=1\n",
    "         case '}':y-=1\n",
    "         case '[':z+=1\n",
    "         case ']':z-=1\n",
    "         case _:continue\n",
    "if x+y+z == 0:\n",
    "    print(\"valid string\")\n",
    "else:\n",
    "    print(\"invalid string\")"
   ]
  },
  {
   "cell_type": "code",
   "execution_count": 22,
   "id": "a846e339-a31e-44d5-9e75-121caee45466",
   "metadata": {},
   "outputs": [
    {
     "name": "stdin",
     "output_type": "stream",
     "text": [
      " this is {a car\n"
     ]
    },
    {
     "name": "stdout",
     "output_type": "stream",
     "text": [
      "invalid string\n"
     ]
    }
   ],
   "source": [
    "s=input()\n",
    "x=y=z=0\n",
    "for c in s:\n",
    "    match (c):\n",
    "         case '(':x+=1\n",
    "         case ')':x-=1\n",
    "         case '{':y+=1\n",
    "         case '}':y-=1\n",
    "         case '[':z+=1\n",
    "         case ']':z-=1\n",
    "         case _:continue\n",
    "if x+y+z == 0:\n",
    "    print(\"valid string\")\n",
    "else:\n",
    "    print(\"invalid string\")"
   ]
  },
  {
   "cell_type": "code",
   "execution_count": 4,
   "id": "26c91322-39da-4a4c-b821-5138fc5d92ba",
   "metadata": {},
   "outputs": [
    {
     "name": "stdin",
     "output_type": "stream",
     "text": [
      "enter the stack elements 1 2 3 4\n",
      "enter the elements to be inserted 1\n"
     ]
    },
    {
     "name": "stdout",
     "output_type": "stream",
     "text": [
      "stack after adding: ['1', '2', '3', '4', 1]\n",
      "removed elements is: 1\n",
      "stack after removeing: ['1', '2', '3', '4']\n"
     ]
    }
   ],
   "source": [
    "#stacks\n",
    "\n",
    "stack=input(\"enter the stack elements\").split()\n",
    "top=-1\n",
    "def add():\n",
    "    val=int(input(\"enter the elements to be inserted\"))\n",
    "    stack.append(val)\n",
    "    return stack\n",
    "\n",
    "def remove():\n",
    "    value=stack.pop()\n",
    "    print(\"removed elements is:\",value)\n",
    "    return stack\n",
    "\n",
    "print(\"stack after adding:\",add())\n",
    "print(\"stack after removeing:\",remove())\n",
    "\n",
    "\n",
    "\n"
   ]
  },
  {
   "cell_type": "code",
   "execution_count": null,
   "id": "3d9cfd75-4ffd-4b1c-8765-62dbf316c71e",
   "metadata": {},
   "outputs": [],
   "source": []
  }
 ],
 "metadata": {
  "kernelspec": {
   "display_name": "Python 3 (ipykernel)",
   "language": "python",
   "name": "python3"
  },
  "language_info": {
   "codemirror_mode": {
    "name": "ipython",
    "version": 3
   },
   "file_extension": ".py",
   "mimetype": "text/x-python",
   "name": "python",
   "nbconvert_exporter": "python",
   "pygments_lexer": "ipython3",
   "version": "3.12.3"
  }
 },
 "nbformat": 4,
 "nbformat_minor": 5
}
