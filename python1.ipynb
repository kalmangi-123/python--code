{
 "cells": [
  {
   "cell_type": "code",
   "execution_count": 4,
   "id": "cd82493d-f75c-4fc7-98df-745b46ce9503",
   "metadata": {},
   "outputs": [
    {
     "name": "stdin",
     "output_type": "stream",
     "text": [
      "Enter your Name: Roja\n",
      "Enter your Age: 20\n"
     ]
    },
    {
     "name": "stdout",
     "output_type": "stream",
     "text": [
      "Roja\n",
      "You are elegible\n"
     ]
    }
   ],
   "source": [
    "Name=input(\"Enter your Name:\")\n",
    "age=int(input(\"Enter your Age:\"))\n",
    "if age>=18:\n",
    "        print(Name)\n",
    "        print(\"You are elegible\")\n",
    "else:\n",
    "        print(Name)\n",
    "        print(\"You are not elegible\")"
   ]
  },
  {
   "cell_type": "code",
   "execution_count": 5,
   "id": "b2eff42a-543d-40dc-afda-0df89d220ec6",
   "metadata": {},
   "outputs": [
    {
     "name": "stdin",
     "output_type": "stream",
     "text": [
      "Enter your Name: Roja\n",
      "Enter your Age: 16\n"
     ]
    },
    {
     "name": "stdout",
     "output_type": "stream",
     "text": [
      "Roja\n",
      "You are not elegible\n"
     ]
    }
   ],
   "source": [
    "Name=input(\"Enter your Name:\")\n",
    "age=int(input(\"Enter your Age:\"))\n",
    "if age>=18:\n",
    "        print(Name)\n",
    "        print(\"You are elegible\")\n",
    "else:\n",
    "        print(Name)\n",
    "        print(\"You are not elegible\")"
   ]
  },
  {
   "cell_type": "code",
   "execution_count": 8,
   "id": "c018993c-a9a0-41bb-8ca2-5a7a0b945673",
   "metadata": {},
   "outputs": [
    {
     "name": "stdin",
     "output_type": "stream",
     "text": [
      " 8\n",
      " 9\n",
      " 6\n"
     ]
    },
    {
     "name": "stdout",
     "output_type": "stream",
     "text": [
      "y is largest\n"
     ]
    }
   ],
   "source": [
    "x=int(input())\n",
    "y=int(input())\n",
    "z=int(input())\n",
    "\n",
    "if x>y:\n",
    "  if x>z:\n",
    "      print(\"x is largest\")\n",
    "  else:\n",
    "      print(\"z is largest\")\n",
    "else:\n",
    "     if y>z:\n",
    "         print(\"y is largest\")\n",
    "     else:\n",
    "         print(\"z is largest\")"
   ]
  },
  {
   "cell_type": "code",
   "execution_count": 11,
   "id": "c0b69b24-62d8-4301-a917-b342701eedba",
   "metadata": {},
   "outputs": [
    {
     "name": "stdin",
     "output_type": "stream",
     "text": [
      "Enter your marks:  90\n"
     ]
    },
    {
     "name": "stdout",
     "output_type": "stream",
     "text": [
      "Grade = A+\n"
     ]
    }
   ],
   "source": [
    "marks = int(input(\"Enter your marks: \"))\n",
    "\n",
    "if marks>=90 and marks<=100:\n",
    "    print(\"Grade = A+\")\n",
    "else:\n",
    "    if marks>=80 and marks<=90:\n",
    "        print(\"Grade = A\")\n",
    "    else:\n",
    "        if marks>=70 and marks<=80:\n",
    "            print(\"Grade = B+\")\n",
    "        else:\n",
    "           if marks>=60 and marks<=70:\n",
    "              print(\"Grade = B\")\n",
    "           else:\n",
    "              if marks>=50 and marks<=60:\n",
    "                print(\"Grade = C+\")\n",
    "              else:\n",
    "                 if marks>=40 and marks<=50:\n",
    "                     print(\"Grade = C\")\n",
    "                 else:\n",
    "                     if marks>=30 and marks<=40:\n",
    "                         print(\"Grade = D+\")\n",
    "                     else:\n",
    "                         if marks>=20 and marks<=30:\n",
    "                             print(\"Grade = D\")\n",
    "                         else:\n",
    "                             if marks>=10 and marks<=20:\n",
    "                                 print(\"Grade = E\")\n",
    "                             else:\n",
    "                                 if marks>=0 and marks<=10:\n",
    "                                     print(\"Grade = F\")\n",
    "                                 else:\n",
    "                                     print(\"invalid choice\")\n",
    "        "
   ]
  },
  {
   "cell_type": "code",
   "execution_count": 12,
   "id": "c298531d-f4f1-4b47-a3c2-5164dae4b84b",
   "metadata": {},
   "outputs": [
    {
     "name": "stdin",
     "output_type": "stream",
     "text": [
      "enter the day number:  0\n"
     ]
    },
    {
     "name": "stdout",
     "output_type": "stream",
     "text": [
      "invalid\n"
     ]
    }
   ],
   "source": [
    "day = int(input(\"enter the day number: \"))\n",
    "\n",
    "match day:\n",
    "    case 1: print(\"sunday\")\n",
    "    case 2: print(\"monday\")\n",
    "    case 3: print(\"tuseday\")\n",
    "    case 4: print(\"wednesday\")\n",
    "    case 5: print(\"thrusday\")\n",
    "    case 6: print(\"friday\")\n",
    "    case 7: print(\"saturday\")\n",
    "    case _ if day == 10:\n",
    "          print(\"ten\")\n",
    "    case _ if day >=13 and day<=19:\n",
    "          print(\"teens\")\n",
    "    case _: print(\"invalid\")"
   ]
  },
  {
   "cell_type": "code",
   "execution_count": 3,
   "id": "b94dfc13-6ca7-439b-b5f2-d93d977f22cb",
   "metadata": {},
   "outputs": [
    {
     "name": "stdout",
     "output_type": "stream",
     "text": [
      "0\n",
      "1\n",
      "2\n",
      "3\n",
      "4\n",
      "5\n",
      "6\n",
      "7\n",
      "8\n",
      "9\n"
     ]
    }
   ],
   "source": [
    "for x in range(0,10):\n",
    "      print(x)"
   ]
  },
  {
   "cell_type": "code",
   "execution_count": 4,
   "id": "43602ecd-f4c3-44f8-977a-ec2691d15dac",
   "metadata": {},
   "outputs": [
    {
     "name": "stdout",
     "output_type": "stream",
     "text": [
      "0\n",
      "1\n",
      "2\n",
      "3\n",
      "4\n",
      "5\n",
      "6\n",
      "7\n",
      "8\n",
      "9\n"
     ]
    }
   ],
   "source": [
    "x=0\n",
    "while x<10:\n",
    "    print(x)\n",
    "    x=x+1"
   ]
  },
  {
   "cell_type": "code",
   "execution_count": 5,
   "id": "4f9c7166-05c8-46f4-9651-b95c8eec0adb",
   "metadata": {},
   "outputs": [
    {
     "name": "stdout",
     "output_type": "stream",
     "text": [
      "1\n",
      "3\n",
      "5\n",
      "7\n",
      "9\n",
      "11\n"
     ]
    }
   ],
   "source": [
    "for y in range(1,12,2):\n",
    "    print(y)"
   ]
  },
  {
   "cell_type": "code",
   "execution_count": 6,
   "id": "1257907f-693d-44d2-a6ee-7ae23f2a84ff",
   "metadata": {},
   "outputs": [
    {
     "name": "stdout",
     "output_type": "stream",
     "text": [
      "*\n",
      "**\n",
      "***\n",
      "****\n",
      "*****\n",
      "******\n",
      "*******\n",
      "********\n",
      "*********\n",
      "**********\n"
     ]
    }
   ],
   "source": [
    "for y in range(0,10):\n",
    "    for x in range(0,y+1):\n",
    "        print(\"*\",end=\"\")\n",
    "    print()"
   ]
  },
  {
   "cell_type": "markdown",
   "id": "28d96917-b8ce-45a9-a7e9-9a54418cbe13",
   "metadata": {},
   "source": []
  },
  {
   "cell_type": "code",
   "execution_count": null,
   "id": "85582607-0c04-4ea1-923a-f3a68e3e8987",
   "metadata": {},
   "outputs": [],
   "source": []
  }
 ],
 "metadata": {
  "kernelspec": {
   "display_name": "Python 3 (ipykernel)",
   "language": "python",
   "name": "python3"
  },
  "language_info": {
   "codemirror_mode": {
    "name": "ipython",
    "version": 3
   },
   "file_extension": ".py",
   "mimetype": "text/x-python",
   "name": "python",
   "nbconvert_exporter": "python",
   "pygments_lexer": "ipython3",
   "version": "3.12.3"
  }
 },
 "nbformat": 4,
 "nbformat_minor": 5
}
