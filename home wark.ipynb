{
 "cells": [
  {
   "cell_type": "code",
   "execution_count": 1,
   "id": "9ec41019-c234-4584-8095-0abe9ed20192",
   "metadata": {},
   "outputs": [
    {
     "name": "stdin",
     "output_type": "stream",
     "text": [
      "enter the celsius 32\n"
     ]
    },
    {
     "name": "stdout",
     "output_type": "stream",
     "text": [
      "farhrenheit is: 89\n"
     ]
    }
   ],
   "source": [
    "#convert celsius to farhrenheit\n",
    "\n",
    "cel=int(input(\"enter the celsius\"))\n",
    "far=int(cel*9/5+32)\n",
    "print(\"farhrenheit is:\",far)"
   ]
  },
  {
   "cell_type": "code",
   "execution_count": 1,
   "id": "6a7e5a55-2c6d-45e3-ad11-c2fb00966576",
   "metadata": {},
   "outputs": [
    {
     "name": "stdout",
     "output_type": "stream",
     "text": [
      "6\n"
     ]
    }
   ],
   "source": [
    "#finding the second largest number\n",
    "a=[1,6,3,9,5]\n",
    "a.sort()\n",
    "print(a[-2])"
   ]
  },
  {
   "cell_type": "code",
   "execution_count": 2,
   "id": "36e51ee2-c53a-4dfa-8fa3-3e773794c421",
   "metadata": {},
   "outputs": [
    {
     "name": "stdin",
     "output_type": "stream",
     "text": [
      "enter the value to be counted 2\n"
     ]
    },
    {
     "name": "stdout",
     "output_type": "stream",
     "text": [
      "number of occurences are: 2\n"
     ]
    }
   ],
   "source": [
    "#count the occurences of each element in list \n",
    "\n",
    "list=[2,3,6,2,4,7,4]\n",
    "a=int(input(\"enter the value to be counted\"))\n",
    "count=0\n",
    "for i in list:\n",
    "    if i==a:\n",
    "        count+=1\n",
    "\n",
    "print(\"number of occurences are:\",count)"
   ]
  },
  {
   "cell_type": "code",
   "execution_count": 3,
   "id": "8d89fd83-999a-4eea-82f0-9e113320e5f3",
   "metadata": {},
   "outputs": [
    {
     "name": "stdout",
     "output_type": "stream",
     "text": [
      "sum of even number is: 16\n"
     ]
    }
   ],
   "source": [
    "#sum of even numbers in the list\n",
    "\n",
    "list=[1,2,3,5,6,9,8,3]\n",
    "sum=0\n",
    "for i in list:\n",
    "    if i%2==0:\n",
    "        sum+=i\n",
    "print(\"sum of even number is:\",sum)"
   ]
  },
  {
   "cell_type": "code",
   "execution_count": 4,
   "id": "d2d5601a-31f1-4ecb-a48b-e84c08d8f7bc",
   "metadata": {},
   "outputs": [
    {
     "name": "stdin",
     "output_type": "stream",
     "text": [
      "Enter the string:  the mango is sweet\n"
     ]
    },
    {
     "name": "stdout",
     "output_type": "stream",
     "text": [
      "Number of vowels in the string: 6\n"
     ]
    }
   ],
   "source": [
    "#find the number of vowels in string\n",
    "\n",
    "string = input(\"Enter the string: \")\n",
    "count = 0\n",
    "\n",
    "vowels = ['a', 'e', 'i', 'o', 'u']\n",
    "for char in string:\n",
    "    if char in vowels:\n",
    "        count += 1\n",
    "\n",
    "print(\"Number of vowels in the string:\", count)"
   ]
  },
  {
   "cell_type": "code",
   "execution_count": null,
   "id": "1f50eb28-c8ca-4341-b40e-bad9403ba488",
   "metadata": {},
   "outputs": [],
   "source": []
  }
 ],
 "metadata": {
  "kernelspec": {
   "display_name": "Python 3 (ipykernel)",
   "language": "python",
   "name": "python3"
  },
  "language_info": {
   "codemirror_mode": {
    "name": "ipython",
    "version": 3
   },
   "file_extension": ".py",
   "mimetype": "text/x-python",
   "name": "python",
   "nbconvert_exporter": "python",
   "pygments_lexer": "ipython3",
   "version": "3.12.3"
  }
 },
 "nbformat": 4,
 "nbformat_minor": 5
}
