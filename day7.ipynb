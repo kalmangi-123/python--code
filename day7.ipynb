{
 "cells": [
  {
   "cell_type": "code",
   "execution_count": null,
   "id": "c008f2c9-e6dd-4834-82b1-c77459f4b4d4",
   "metadata": {},
   "outputs": [],
   "source": [
    "time complexcit:time taken to exicute the complete program\n",
    "theta_average case\n",
    "omega-best case and worst case combine each other\n",
    "1.constant time-0(1) this is called as best time complexcity\n",
    "2.linear-0(n)\n",
    "3.quadretic_0(n^2)\n",
    "4.exponential0(n^m)\n",
    "5.factorial-0(n!)which as worst time complexcity\n",
    "optimal solution-the solution which gives best time complexcity in the worst case also\n",
    "space complexcity-it is also same as time coplexcity which as both constant and linear space\n",
    "constraints:which gives both upper and lower limit"
   ]
  },
  {
   "cell_type": "code",
   "execution_count": 2,
   "id": "7874eac3-b556-4e7a-8be0-ecdb5e41829b",
   "metadata": {},
   "outputs": [
    {
     "name": "stdout",
     "output_type": "stream",
     "text": [
      "19\n"
     ]
    }
   ],
   "source": [
    "l=[2,4,6,1,3,7,4,6,9,3,6,8,3,6,4,1,3,9,6,4,5,6,8,3,7,3,6,8]\n",
    "#find the maximum sum of any 3 consecutive elements of this array.\n",
    "\n",
    "max = 0\n",
    "for x in range(0,len(l)-2):\n",
    "    sum = l[x]+l[x+1]+l[x+2]\n",
    "    if(max<sum):\n",
    "        max=sum\n",
    "\n",
    "print(max)\n",
    "\n"
   ]
  },
  {
   "cell_type": "code",
   "execution_count": 9,
   "id": "841de691-7f01-4e1e-924d-d8494440e0ac",
   "metadata": {},
   "outputs": [
    {
     "name": "stdout",
     "output_type": "stream",
     "text": [
      "38\n"
     ]
    }
   ],
   "source": [
    "max = 0\n",
    "for x in range(0,len(l)-5):\n",
    "    sum = l[x]+l[x+1]+l[x+2]+l[x+3]+l[x+4]+l[x+5]\n",
    "    if(max<sum):\n",
    "        max=sum\n",
    "\n",
    "print(max)\n",
    "\n"
   ]
  },
  {
   "cell_type": "code",
   "execution_count": 10,
   "id": "a8117dbd-0399-430b-b3c9-709176b396ad",
   "metadata": {},
   "outputs": [
    {
     "name": "stdin",
     "output_type": "stream",
     "text": [
      "enter consecutive number: 3\n"
     ]
    },
    {
     "name": "stdout",
     "output_type": "stream",
     "text": [
      "19\n"
     ]
    }
   ],
   "source": [
    "max = 0\n",
    "\n",
    "con=int(input('enter consecutive number:'))\n",
    "for x in range(0,len(l)-con):\n",
    "    s=0\n",
    "    for j in range(0,con):\n",
    "        s=s+l[x+j]\n",
    "    if max<s:\n",
    "        max=s\n",
    "\n",
    "print(max)"
   ]
  },
  {
   "cell_type": "code",
   "execution_count": 8,
   "id": "cae71a12-b4db-4c20-aa20-f45943e54951",
   "metadata": {},
   "outputs": [
    {
     "name": "stdin",
     "output_type": "stream",
     "text": [
      "enter consecutive number: 4\n"
     ]
    },
    {
     "name": "stdout",
     "output_type": "stream",
     "text": [
      "26\n"
     ]
    }
   ],
   "source": [
    "l=[2,4,6,1,3,7,4,6,9,3,6,8,3,6,4,1,3,9,6,4,5,6,8,3,7,3,6,8]\n",
    "#here first we add the number and after by adding next number we should remove the priveous number\n",
    "\n",
    "\n",
    "con=int(input(\"enter consecutive number:\"))\n",
    "max=0\n",
    "sum=0\n",
    "for i in range(0,con):\n",
    "    sum=sum+l[i]\n",
    "for x in range(0,len(l)-con-1):\n",
    "    if max<sum:\n",
    "        max=sum\n",
    "    sum=sum+l[x+con]-l[x]\n",
    "\n",
    "print(max)"
   ]
  },
  {
   "cell_type": "code",
   "execution_count": 10,
   "id": "3fd2b4c0-b67b-46f7-9153-9a8f4f0b9fa2",
   "metadata": {},
   "outputs": [
    {
     "name": "stdout",
     "output_type": "stream",
     "text": [
      "[1, 2, 3, 4, 5, 6, 7, 8, 9]\n"
     ]
    }
   ],
   "source": [
    "a=[3,5,2,6,7,4,8,1,9]\n",
    "a.sort()\n",
    "print(a)"
   ]
  },
  {
   "cell_type": "code",
   "execution_count": 12,
   "id": "c9d0a521-b1ba-474d-a895-f0480b501048",
   "metadata": {},
   "outputs": [
    {
     "name": "stdout",
     "output_type": "stream",
     "text": [
      "[9, 8, 7, 6, 5, 4, 3, 2, 1]\n"
     ]
    }
   ],
   "source": [
    "a=[3,5,2,6,7,4,8,1,9]\n",
    "a.sort(reverse=True)\n",
    "print(a)"
   ]
  },
  {
   "cell_type": "code",
   "execution_count": 26,
   "id": "77708af2-154a-4ad5-983e-1b40aa39767f",
   "metadata": {},
   "outputs": [
    {
     "name": "stdout",
     "output_type": "stream",
     "text": [
      "[1, 2, 3, 4, 5, 6, 7, 8, 9]\n"
     ]
    }
   ],
   "source": [
    "#bubble sort\n",
    "arr=[3,5,2,6,7,4,8,1,9]\n",
    "n = len(arr)\n",
    "\n",
    "for i in range(0,n):\n",
    "    for j in range(0,n-i-1):\n",
    "        if arr[j]>arr[j+1]:\n",
    "            arr[j],arr[j+1] = arr[j+1],arr[j]\n",
    "\n",
    "print(arr)\n"
   ]
  },
  {
   "cell_type": "code",
   "execution_count": 1,
   "id": "0f77420a-2b18-4c9b-b7c1-dde781e88072",
   "metadata": {},
   "outputs": [
    {
     "name": "stdout",
     "output_type": "stream",
     "text": [
      "[1, 2, 3, 4, 5, 6, 7, 8, 9]\n"
     ]
    }
   ],
   "source": [
    "#insertion sort\n",
    "\n",
    "a = [3, 5, 2, 6, 7, 4, 8, 1, 9]\n",
    "n = len(a)\n",
    "\n",
    "for i in range(1, n):\n",
    "    key = a[i]\n",
    "    j = i - 1\n",
    "    while j >= 0 and key < a[j]:\n",
    "        a[j + 1] = a[j]\n",
    "        j -= 1\n",
    "    a[j + 1] = key\n",
    "\n",
    "print(a)\n"
   ]
  },
  {
   "cell_type": "code",
   "execution_count": 2,
   "id": "6a713357-e3f9-47fd-958f-2bef2b06678e",
   "metadata": {},
   "outputs": [
    {
     "name": "stdout",
     "output_type": "stream",
     "text": [
      "[1, 2, 3, 4, 5, 6, 7, 8, 9]\n"
     ]
    }
   ],
   "source": [
    "#selection sort\n",
    "a = [3, 5, 2, 6, 7, 4, 8, 1, 9]\n",
    "n = len(a)\n",
    "for i in range(n-1):\n",
    "    \n",
    "    for j in range(i+1,n):\n",
    "        if a[j]<a[i]:\n",
    "            a[j],a[i]=a[i],a[j]\n",
    "print(a)"
   ]
  }
 ],
 "metadata": {
  "kernelspec": {
   "display_name": "Python 3 (ipykernel)",
   "language": "python",
   "name": "python3"
  },
  "language_info": {
   "codemirror_mode": {
    "name": "ipython",
    "version": 3
   },
   "file_extension": ".py",
   "mimetype": "text/x-python",
   "name": "python",
   "nbconvert_exporter": "python",
   "pygments_lexer": "ipython3",
   "version": "3.12.3"
  }
 },
 "nbformat": 4,
 "nbformat_minor": 5
}
