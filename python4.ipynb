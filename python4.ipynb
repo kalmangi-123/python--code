{
 "cells": [
  {
   "cell_type": "code",
   "execution_count": 7,
   "id": "eccd89ad-682a-4d1d-b865-8e7271d0c42b",
   "metadata": {},
   "outputs": [],
   "source": [
    "#\n",
    "import os\n",
    "try:\n",
    "    with open(\"sample.txt\",'w') as f:\n",
    "        f.write(\"apple mango orange banana\")\n",
    "except filenotfounderror:\n",
    "    print(\"file doesn't exits\")"
   ]
  },
  {
   "cell_type": "code",
   "execution_count": 9,
   "id": "4d3eab5d-ac7e-4a97-ab9a-191291367d7c",
   "metadata": {},
   "outputs": [
    {
     "name": "stdout",
     "output_type": "stream",
     "text": [
      "file doesnot exist\n"
     ]
    }
   ],
   "source": [
    "import os\n",
    "try:\n",
    "    with open(\"simple.txt\",'r+') as f:\n",
    "        a=f.read()\n",
    "        print(a)\n",
    "        f.write(\"\\tguava\")\n",
    "except:\n",
    "    print(\"file doesnot exist\")\n",
    "    "
   ]
  },
  {
   "cell_type": "code",
   "execution_count": 10,
   "id": "53caf8c7-a928-49d3-a33f-c9aa47fcc908",
   "metadata": {},
   "outputs": [
    {
     "name": "stdout",
     "output_type": "stream",
     "text": [
      "<class 'int'>\n"
     ]
    }
   ],
   "source": [
    "#object oriented programming\n",
    "#class is a just blueprint which defines the charecters of an object\n",
    "#object is the instance of class which has pysical significance\n",
    "#dataabstuction:it is nothing but hiding the data members and functions from object\n",
    "#encapsulation:binding data and function in single unit\n",
    "#inheritance:creating new data from already existing data with features\n",
    "#polymorphism:same name with different function,method overloading,method overriding\n",
    "a=10\n",
    "print(type(a))#so everything is considered as class"
   ]
  },
  {
   "cell_type": "code",
   "execution_count": 46,
   "id": "1e1d23ca-b3b8-43a2-938b-97c7e99c42e8",
   "metadata": {},
   "outputs": [
    {
     "name": "stdout",
     "output_type": "stream",
     "text": [
      "this laptop have i5 8gm ram 1tb ssd\n"
     ]
    }
   ],
   "source": [
    "class laptop:\n",
    "    def config(self):\n",
    "        a=0\n",
    "        print(\"this laptop have i5 8gm ram 1tb ssd\")\n",
    "    def _init_(self,value):\n",
    "      self.b=value\n",
    "hp=laptop()\n",
    "hp.config()"
   ]
  },
  {
   "cell_type": "code",
   "execution_count": 35,
   "id": "c04db587-5889-4275-9b88-35bee7642ed6",
   "metadata": {},
   "outputs": [
    {
     "name": "stdout",
     "output_type": "stream",
     "text": [
      "configuration of the laptop is:\n",
      "processor i5\n",
      "ram 8\n",
      "storage 512\n"
     ]
    }
   ],
   "source": [
    "class Laptop:\n",
    "    def __init__(self,p,r,s):\n",
    "        self.processor=p\n",
    "        self.ram=r\n",
    "        self.storage=s\n",
    "\n",
    "    def config(self):\n",
    "        print(\"configuration of the laptop is:\")\n",
    "        print(\"processor\",self.processor)\n",
    "        print(\"ram\",self.ram)\n",
    "        print(\"storage\",self.storage)\n",
    "\n",
    "if __name__==\"__main__\":\n",
    "    hp = Laptop(\"i5\",8,512)\n",
    "    hp.config()"
   ]
  },
  {
   "cell_type": "code",
   "execution_count": 45,
   "id": "c281f23b-193f-4b1d-84bf-5b2e3719ccfc",
   "metadata": {},
   "outputs": [
    {
     "name": "stdout",
     "output_type": "stream",
     "text": [
      "marks of student1 60\n",
      "marks of student2 70\n",
      "marks of student3 80\n",
      "marks of student4 90\n",
      "marks of student5 100\n",
      "average marks: 80.0\n"
     ]
    }
   ],
   "source": [
    "#students\n",
    "class student:\n",
    "    def __init__(self,std1,std2,std3,std4,std5):\n",
    "        self.student1=std1\n",
    "        self.student2=std2\n",
    "        self.student3=std3\n",
    "        self.student4=std4\n",
    "        self.student5=std5\n",
    "    def config(self):\n",
    "         print(\"marks of student1\",self.student1)\n",
    "         print(\"marks of student2\",self.student2)\n",
    "         print(\"marks of student3\",self.student3)\n",
    "         print(\"marks of student4\",self.student4)\n",
    "         print(\"marks of student5\",self.student5)\n",
    "    def aver(self):\n",
    "        tot=self.student1+self.student2+self.student3+self.student4+self.student5\n",
    "        average=tot/5\n",
    "        return average\n",
    "\n",
    "if __name__==\"__main__\":\n",
    "   s1=student(60,70,80,90,100)\n",
    "   s1.config()\n",
    "   print(\"average marks:\",s1.aver())\n",
    "\n",
    "   "
   ]
  },
  {
   "cell_type": "code",
   "execution_count": 5,
   "id": "1244d780-861e-4918-a9a8-e9f6e687a826",
   "metadata": {},
   "outputs": [
    {
     "ename": "AttributeError",
     "evalue": "'demo' object has no attribute 'x'",
     "output_type": "error",
     "traceback": [
      "\u001b[1;31m---------------------------------------------------------------------------\u001b[0m",
      "\u001b[1;31mAttributeError\u001b[0m                            Traceback (most recent call last)",
      "Cell \u001b[1;32mIn[5], line 22\u001b[0m\n\u001b[0;32m     16\u001b[0m        \u001b[38;5;28mprint\u001b[39m(\u001b[38;5;28mself\u001b[39m\u001b[38;5;241m.\u001b[39m__z)\n\u001b[0;32m     18\u001b[0m obj1 \u001b[38;5;241m=\u001b[39m demo(\u001b[38;5;241m1\u001b[39m,\u001b[38;5;241m2\u001b[39m,\u001b[38;5;241m3\u001b[39m)\n\u001b[1;32m---> 22\u001b[0m \u001b[38;5;28mprint\u001b[39m(\u001b[43mobj1\u001b[49m\u001b[38;5;241;43m.\u001b[39;49m\u001b[43mx\u001b[49m)\n\u001b[0;32m     23\u001b[0m \u001b[38;5;28mprint\u001b[39m(objj2\u001b[38;5;241m.\u001b[39my)\n\u001b[0;32m     24\u001b[0m \u001b[38;5;28mprint\u001b[39m(obj3\u001b[38;5;241m.\u001b[39mz)\n",
      "\u001b[1;31mAttributeError\u001b[0m: 'demo' object has no attribute 'x'"
     ]
    }
   ],
   "source": [
    "#access modifiers\n",
    "#public normal\n",
    "#protected_\n",
    "#private__\n",
    "\n",
    "class demo:\n",
    "    def __init__(self,a,b,c):\n",
    "        self.__x=a\n",
    "        self.__y=b\n",
    "        self.__z=c\n",
    "    def outputx(self):\n",
    "        print(self.__x)#privatevariable\n",
    "    def outputy(self):\n",
    "       print(self.__y)\n",
    "    def outputz(self):\n",
    "       print(self.__z)\n",
    "\n",
    "obj1 = demo(1,2,3)\n",
    "\n",
    "\n",
    "\n",
    "print(obj1.x)\n",
    "print(objj2.y)\n",
    "print(obj3.z)"
   ]
  },
  {
   "cell_type": "code",
   "execution_count": 11,
   "id": "4c81b929-c391-4bb1-8721-62ceb656283c",
   "metadata": {},
   "outputs": [
    {
     "name": "stdout",
     "output_type": "stream",
     "text": [
      "this is fun1\n",
      "this is fun2\n",
      "this is fun3\n",
      "this is fun4\n",
      "this is fun5\n"
     ]
    }
   ],
   "source": [
    "#inheritance\n",
    "class a:\n",
    "    def fun1(self):\n",
    "        print(\"this is fun1\")\n",
    "    def fun2(self):\n",
    "        print(\"this is fun2\")\n",
    "\n",
    "class b(a):\n",
    "    def fun3(self):\n",
    "        print(\"this is fun3\")\n",
    "    def fun4(self):\n",
    "        print(\"this is fun4\")\n",
    "\n",
    "class c(b):\n",
    "    def fun5(self):\n",
    "        print(\"this is fun5\")\n",
    "    def fun6(self):\n",
    "        print(\"this is fun6\")\n",
    "\n",
    "if __name__==\"__main__\":\n",
    "    obj1=a()\n",
    "    obj2=b()\n",
    "    obj3=c()\n",
    "\n",
    "    obj1.fun1()\n",
    "    obj2.fun2()\n",
    "    obj2.fun3()\n",
    "    obj3.fun4()\n",
    "    obj3.fun5()"
   ]
  },
  {
   "cell_type": "code",
   "execution_count": 12,
   "id": "1a94149f-9db0-4b74-b896-c73aa5982859",
   "metadata": {},
   "outputs": [
    {
     "name": "stdout",
     "output_type": "stream",
     "text": [
      "constructor of class a\n",
      "constructor of class b\n",
      "constructor of class c\n",
      "constructor of class d\n"
     ]
    }
   ],
   "source": [
    "class a:\n",
    "    def __init__(self):\n",
    "        print(\"constructor of class a\")\n",
    "\n",
    "class b:\n",
    "    def __init__(self):\n",
    "        print(\"constructor of class b\")\n",
    "\n",
    "class c:\n",
    "    def __init__(self):\n",
    "        print(\"constructor of class c\")\n",
    "\n",
    "class d:\n",
    "    def __init__(self):\n",
    "        print(\"constructor of class d\")\n",
    "\n",
    "if __name__==\"__main__\":\n",
    "    obj1=a()\n",
    "    obj2=b()\n",
    "    obj3=c()\n",
    "    obj4=d()"
   ]
  },
  {
   "cell_type": "code",
   "execution_count": 18,
   "id": "013a72a4-8b85-4472-9137-72acd34d4098",
   "metadata": {},
   "outputs": [
    {
     "ename": "AttributeError",
     "evalue": "'c' object has no attribute 'c'",
     "output_type": "error",
     "traceback": [
      "\u001b[1;31m---------------------------------------------------------------------------\u001b[0m",
      "\u001b[1;31mAttributeError\u001b[0m                            Traceback (most recent call last)",
      "Cell \u001b[1;32mIn[18], line 9\u001b[0m\n\u001b[0;32m      6\u001b[0m     \u001b[38;5;28;01mdef\u001b[39;00m \u001b[38;5;21m__init\u001b[39m(\u001b[38;5;28mself\u001b[39m,a,b\u001b[38;5;241m=\u001b[39m\u001b[38;5;241m5\u001b[39m):\n\u001b[0;32m      7\u001b[0m         \u001b[38;5;28mprint\u001b[39m(\u001b[38;5;124m\"\u001b[39m\u001b[38;5;124mfun of class c with\u001b[39m\u001b[38;5;124m\"\u001b[39m,a,b)\n\u001b[1;32m----> 9\u001b[0m \u001b[43mob\u001b[49m\u001b[38;5;241;43m.\u001b[39;49m\u001b[43mc\u001b[49m()\n\u001b[0;32m     10\u001b[0m ob\u001b[38;5;241m=\u001b[39mabc(\u001b[38;5;241m1\u001b[39m)\n\u001b[0;32m     11\u001b[0m ob\u001b[38;5;241m=\u001b[39mabc(\u001b[38;5;241m1\u001b[39m,\u001b[38;5;241m2\u001b[39m)\n",
      "\u001b[1;31mAttributeError\u001b[0m: 'c' object has no attribute 'c'"
     ]
    }
   ],
   "source": [
    "class c:\n",
    "    def __init(self):\n",
    "        print(\"constructor of class a\")\n",
    "    def __init(self,a):\n",
    "        print(\"constructor of class c with\",a)\n",
    "    def __init(self,a,b=5):\n",
    "        print(\"fun of class c with\",a,b)\n",
    "\n",
    "ob=c()\n",
    "ob.abc(1)\n",
    "ob.abc(1,2)"
   ]
  },
  {
   "cell_type": "code",
   "execution_count": 20,
   "id": "a0864f79-46b4-400c-903b-1adf7acad254",
   "metadata": {},
   "outputs": [
    {
     "name": "stdout",
     "output_type": "stream",
     "text": [
      "constructor of class c\n"
     ]
    }
   ],
   "source": [
    "class a:\n",
    "    def __init__(self):\n",
    "        print(\"constructor of class a\")\n",
    "    def __show(self):\n",
    "        print(\"printing the show of a\")\n",
    "\n",
    "class b:\n",
    "    def __init__(self):\n",
    "        print(\"constructor of class b\")\n",
    "    def __show(self):\n",
    "        print(\"printing the show of b\")\n",
    "\n",
    "class c:\n",
    "    def __init__(self):\n",
    "        print(\"constructor of class c\")\n",
    "    def __show(self):\n",
    "        print(\"printing the show of c\")\n",
    "\n",
    "class d:\n",
    "    def __init__(self):\n",
    "        print(\"constructor of class d\")\n",
    "    def __show(self):\n",
    "        print(\"printing the show of d\")\n",
    "\n",
    "if __name__==\"__main__\":\n",
    "    ob=c()"
   ]
  },
  {
   "cell_type": "code",
   "execution_count": 30,
   "id": "333b9048-1769-4316-97b3-f7f9d982c840",
   "metadata": {},
   "outputs": [
    {
     "name": "stdout",
     "output_type": "stream",
     "text": [
      "Professional laptop specifications: 8hr i9 8 512\n",
      "Gaming laptop specifications: 9 i7 16 512\n"
     ]
    }
   ],
   "source": [
    "class laptop:\n",
    "    def __init__(self, p, r, s):\n",
    "        self.processor = p\n",
    "        self.ram = r\n",
    "        self.storage = s\n",
    "          \n",
    "\n",
    "class professional(laptop):\n",
    "    def __init__(self, bat, p, r, s):\n",
    "        self.batterybackup = bat\n",
    "        super().__init__(p, r, s)\n",
    "\n",
    "   \n",
    "class gaming(laptop):\n",
    "    def __init__(self, graphic, p, r, s):\n",
    "        self.graphiccard = graphic\n",
    "        super().__init__(p, r, s)\n",
    "        \n",
    "obj1 = laptop('i7', 16, 512)\n",
    "obj2 = professional('8hr', 'i9', 8, 512)\n",
    "obj3 = gaming(\"9\", 'i7', '16', 512)\n",
    "\n",
    "print(\"Professional laptop specifications:\", obj2.batterybackup, obj2.processor, obj2.ram, obj2.storage)\n",
    "print(\"Gaming laptop specifications:\", obj3.graphiccard, obj3.processor, obj3.ram, obj3.storage)"
   ]
  },
  {
   "cell_type": "code",
   "execution_count": 1,
   "id": "ed9d32d0-2ad9-43d1-88b7-c7bf8de51d96",
   "metadata": {},
   "outputs": [
    {
     "name": "stdout",
     "output_type": "stream",
     "text": [
      "Ticket booked Fare Price will be:  6550\n"
     ]
    }
   ],
   "source": [
    "class ticket:\n",
    "   \n",
    "    def __init__(self,D):\n",
    "        self.distance = int(D)\n",
    "        self.farePrice = None\n",
    "\n",
    "class gen(ticket):\n",
    "    def __init__(self,D):\n",
    "        super().__init__(D)\n",
    "    def print_ticket(self):\n",
    "        self.farePrice=50+(self.distance*2)\n",
    "        return self.farePrice\n",
    "        \n",
    "\n",
    "\n",
    "class slp(gen):\n",
    "    def __init__(self,D):\n",
    "        super().__init__(D)\n",
    "\n",
    "    def print_ticket(self):\n",
    "        self.farePrice=super().print_ticket()+(2*self.distance)\n",
    "        return self.farePrice\n",
    "\n",
    "class AC(slp):\n",
    "    def __init__(self,D):\n",
    "        super().__init__(D)\n",
    "    def print_ticket(self):\n",
    "        self.farePrice=super().print_ticket()+(4*self.distance)\n",
    "        return self.farePrice\n",
    "\n",
    "class FC(AC):\n",
    "    def __init__(self,D):\n",
    "        super().__init__(D)\n",
    "    def print_ticket(self):\n",
    "        self.farePrice=super().print_ticket()+(5*self.distance)\n",
    "        return self.farePrice\n",
    "\n",
    "\n",
    "jur = FC(500)\n",
    "print(\"Ticket booked Fare Price will be: \",jur.print_ticket())"
   ]
  },
  {
   "cell_type": "code",
   "execution_count": null,
   "id": "d31a2ba0-b431-4e4d-8deb-b2439c546b52",
   "metadata": {},
   "outputs": [],
   "source": []
  }
 ],
 "metadata": {
  "kernelspec": {
   "display_name": "Python 3 (ipykernel)",
   "language": "python",
   "name": "python3"
  },
  "language_info": {
   "codemirror_mode": {
    "name": "ipython",
    "version": 3
   },
   "file_extension": ".py",
   "mimetype": "text/x-python",
   "name": "python",
   "nbconvert_exporter": "python",
   "pygments_lexer": "ipython3",
   "version": "3.12.3"
  }
 },
 "nbformat": 4,
 "nbformat_minor": 5
}
