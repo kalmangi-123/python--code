{
 "cells": [
  {
   "cell_type": "code",
   "execution_count": null,
   "id": "9f84aa38-09f7-449f-8a8f-7abab1199ec1",
   "metadata": {},
   "outputs": [],
   "source": [
    "class node:\n",
    "    def __init__(self,data):\n",
    "        self.data=data\n",
    "        self.next=none\n",
    "\n",
    "class linkedlist:\n",
    "    def __init__(self,data):\n",
    "        self.head=none\n",
    "    def start_ins():\n",
    "        newnode=node(data)\n",
    "        if not self.head:\n",
    "            self.head=newnode\n",
    "            return\n",
    "\n",
    "        else:\n",
    "        newnode.next=self.head\n",
    "        self.head=newnode\n",
    "    \n",
    "    \n",
    "    def end_ins():\n",
    "        newnode=node(data)\n",
    "        if not self.head:\n",
    "            self.head=newnode\n",
    "            return\n",
    "        else:\n",
    "            lastnode=self.head\n",
    "            while lastnode.next:\n",
    "                lastnode=lastnode.next\n",
    "                lastnode.next=newnode\n",
    "    def start_del():\n",
    "        if not self.head:\n",
    "            print(\"list does not exist\")\n",
    "            return\n",
    "        else:\n",
    "            temp=self.head\n",
    "            self.head=self.head.next\n",
    "    def end_del():\n",
    "        if not self.head:\n",
    "            print(\"list does not exist\")\n",
    "            return\n",
    "        else self.head is none:\n",
    "         temp=self.head\n",
    "            self.head=self.head.next\n",
    "\n",
    "\n",
    "\n",
    "\n",
    "\n",
    "\n",
    "\n",
    "\n",
    "\n",
    "\n",
    "\n",
    "\n",
    "\n",
    "match(ch):\n",
    "    case 1:start_ins()\n",
    "    case 2:mid_ins()\n",
    "    case 3:end_ins()\n",
    "    case 4:start_del()\n",
    "    case 5:mid_del()\n",
    "    case 6:end_del()"
   ]
  },
  {
   "cell_type": "code",
   "execution_count": 2,
   "id": "479d7481-4a57-45c4-aea5-441f7d736f6b",
   "metadata": {},
   "outputs": [
    {
     "name": "stdout",
     "output_type": "stream",
     "text": [
      "1 --> 2 --> 3 --> 4 --> 5 -->\n"
     ]
    }
   ],
   "source": [
    "class node:\n",
    "    def __init__(self,value):\n",
    "        self.data=value\n",
    "        self.next=node\n",
    "\n",
    "head= node(1)\n",
    "head.next=node(2)\n",
    "head.next.next=node(3)\n",
    "head.next.next.next=node(4)\n",
    "head.next.next.next.next=node(5)\n",
    "\n",
    "print(head.data,\"-->\",\n",
    "head.next.data,\"-->\",\n",
    "head.next.next.data,\"-->\",\n",
    "head.next.next.next.data,\"-->\",\n",
    "head.next.next.next.next.data,\"-->\")\n"
   ]
  },
  {
   "cell_type": "code",
   "execution_count": 3,
   "id": "4d929738-08b6-4447-9122-8ff20cad8262",
   "metadata": {},
   "outputs": [
    {
     "name": "stdin",
     "output_type": "stream",
     "text": [
      " 1\n"
     ]
    },
    {
     "name": "stdout",
     "output_type": "stream",
     "text": [
      "1\n"
     ]
    }
   ],
   "source": [
    "x=int(input())\n",
    "temp=node(x)\n",
    "temp.next=head\n",
    "head=temp\n",
    "\n",
    "print(head.data)"
   ]
  },
  {
   "cell_type": "code",
   "execution_count": 4,
   "id": "c81b96de-3a7e-4bd1-9881-26793f9d510c",
   "metadata": {},
   "outputs": [
    {
     "ename": "NameError",
     "evalue": "name 'head' is not defined",
     "output_type": "error",
     "traceback": [
      "\u001b[1;31m---------------------------------------------------------------------------\u001b[0m",
      "\u001b[1;31mNameError\u001b[0m                                 Traceback (most recent call last)",
      "Cell \u001b[1;32mIn[4], line 1\u001b[0m\n\u001b[1;32m----> 1\u001b[0m curr \u001b[38;5;241m=\u001b[39m \u001b[43mhead\u001b[49m\n\u001b[0;32m      3\u001b[0m \u001b[38;5;28;01mwhile\u001b[39;00m curr\u001b[38;5;241m!=\u001b[39m\u001b[38;5;28;01mNone\u001b[39;00m:\n\u001b[0;32m      4\u001b[0m     \u001b[38;5;28mprint\u001b[39m(curr\u001b[38;5;241m.\u001b[39mhead,\u001b[38;5;124m\"\u001b[39m\u001b[38;5;124m-->\u001b[39m\u001b[38;5;124m\"\u001b[39m,end\u001b[38;5;241m=\u001b[39m\u001b[38;5;124m\"\u001b[39m\u001b[38;5;124m \u001b[39m\u001b[38;5;124m\"\u001b[39m)\n",
      "\u001b[1;31mNameError\u001b[0m: name 'head' is not defined"
     ]
    }
   ],
   "source": [
    "curr = head\n",
    "\n",
    "while curr!=None:\n",
    "    print(curr.head,\"-->\",end=\" \")\n",
    "    curr=curr.next"
   ]
  },
  {
   "cell_type": "code",
   "execution_count": 22,
   "id": "1e90a6c4-f0eb-4985-a9f5-12c3a8d11edd",
   "metadata": {},
   "outputs": [
    {
     "name": "stdout",
     "output_type": "stream",
     "text": [
      "elements in preorder\n",
      "\n",
      "1\n",
      "2\n",
      "4\n",
      "5\n",
      "3\n",
      "elements in inorder\n",
      "\n",
      "4\n",
      "2\n",
      "5\n",
      "1\n",
      "3\n",
      "elements in postorder\n",
      "\n",
      "4\n",
      "5\n",
      "2\n",
      "3\n",
      "1\n",
      "elements of level order\n",
      "\n",
      "1 \n",
      "2 3 \n",
      "4 5 \n"
     ]
    }
   ],
   "source": [
    "#trees\n",
    "\n",
    "class node:\n",
    "    def __init__(self,value):\n",
    "        self.data=value\n",
    "        self.left=None\n",
    "        self.right=None\n",
    "\n",
    "def preorder(root):\n",
    "    if root==None:\n",
    "        return\n",
    "\n",
    "    print(root.data)\n",
    "    preorder(root.left)\n",
    "    preorder(root.right)\n",
    "\n",
    "def inorder(root):\n",
    "    if root==None:\n",
    "        return\n",
    "    inorder(root.left)\n",
    "    print(root.data)\n",
    "    inorder(root.right)\n",
    "\n",
    "def postorder(root):\n",
    "    if root==None:\n",
    "        return\n",
    "    postorder(root.left)\n",
    "    postorder(root.right)\n",
    "    print(root.data)\n",
    "\n",
    "def levelorder(root):\n",
    "    Q=[root,None]\n",
    "    while Q:\n",
    "        curr = Q.pop(0)\n",
    "        if curr == None:\n",
    "            print()\n",
    "            if Q:\n",
    "                Q.append(curr)\n",
    "        else:\n",
    "            print(curr.data,end=\" \")\n",
    "            if curr.left != None:\n",
    "                Q.append(curr.left)\n",
    "            if curr.right !=None:\n",
    "                Q.append(curr.right)\n",
    "\n",
    "\n",
    "\n",
    "root = node(1)\n",
    "root.left= node(2)\n",
    "root.right = node(3)\n",
    "\n",
    "root.left.left=node(4)\n",
    "root.left.right=node(5)\n",
    "\n",
    "print(\"elements in preorder\\n\")\n",
    "preorder(root)\n",
    "print(\"elements in inorder\\n\")\n",
    "inorder(root)\n",
    "print(\"elements in postorder\\n\")\n",
    "postorder(root)\n",
    "print(\"elements of level order\\n\")\n",
    "levelorder(root)"
   ]
  },
  {
   "cell_type": "code",
   "execution_count": null,
   "id": "2669a5d2-f4f4-44c9-b867-0ec554c248d8",
   "metadata": {},
   "outputs": [],
   "source": []
  }
 ],
 "metadata": {
  "kernelspec": {
   "display_name": "Python 3 (ipykernel)",
   "language": "python",
   "name": "python3"
  },
  "language_info": {
   "codemirror_mode": {
    "name": "ipython",
    "version": 3
   },
   "file_extension": ".py",
   "mimetype": "text/x-python",
   "name": "python",
   "nbconvert_exporter": "python",
   "pygments_lexer": "ipython3",
   "version": "3.12.3"
  }
 },
 "nbformat": 4,
 "nbformat_minor": 5
}
